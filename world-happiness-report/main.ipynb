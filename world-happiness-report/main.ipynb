{
 "cells": [
  {
   "cell_type": "markdown",
   "metadata": {},
   "source": [
    "## World Happiness Report 2021"
   ]
  },
  {
   "cell_type": "code",
   "execution_count": 22,
   "metadata": {},
   "outputs": [],
   "source": [
    "# Import the Library\n",
    "import numpy as np \n",
    "import pandas as pd \n",
    "import matplotlib.pyplot as plt \n"
   ]
  },
  {
   "cell_type": "code",
   "execution_count": 23,
   "metadata": {},
   "outputs": [
    {
     "output_type": "execute_result",
     "data": {
      "text/plain": [
       "  Country name  year  Life Ladder  Log GDP per capita  Social support  \\\n",
       "0  Afghanistan  2008        3.724               7.370           0.451   \n",
       "1  Afghanistan  2009        4.402               7.540           0.552   \n",
       "2  Afghanistan  2010        4.758               7.647           0.539   \n",
       "3  Afghanistan  2011        3.832               7.620           0.521   \n",
       "4  Afghanistan  2012        3.783               7.705           0.521   \n",
       "\n",
       "   Healthy life expectancy at birth  Freedom to make life choices  Generosity  \\\n",
       "0                             50.80                         0.718       0.168   \n",
       "1                             51.20                         0.679       0.190   \n",
       "2                             51.60                         0.600       0.121   \n",
       "3                             51.92                         0.496       0.162   \n",
       "4                             52.24                         0.531       0.236   \n",
       "\n",
       "   Perceptions of corruption  Positive affect  Negative affect  \n",
       "0                      0.882            0.518            0.258  \n",
       "1                      0.850            0.584            0.237  \n",
       "2                      0.707            0.618            0.275  \n",
       "3                      0.731            0.611            0.267  \n",
       "4                      0.776            0.710            0.268  "
      ],
      "text/html": "<div>\n<style scoped>\n    .dataframe tbody tr th:only-of-type {\n        vertical-align: middle;\n    }\n\n    .dataframe tbody tr th {\n        vertical-align: top;\n    }\n\n    .dataframe thead th {\n        text-align: right;\n    }\n</style>\n<table border=\"1\" class=\"dataframe\">\n  <thead>\n    <tr style=\"text-align: right;\">\n      <th></th>\n      <th>Country name</th>\n      <th>year</th>\n      <th>Life Ladder</th>\n      <th>Log GDP per capita</th>\n      <th>Social support</th>\n      <th>Healthy life expectancy at birth</th>\n      <th>Freedom to make life choices</th>\n      <th>Generosity</th>\n      <th>Perceptions of corruption</th>\n      <th>Positive affect</th>\n      <th>Negative affect</th>\n    </tr>\n  </thead>\n  <tbody>\n    <tr>\n      <th>0</th>\n      <td>Afghanistan</td>\n      <td>2008</td>\n      <td>3.724</td>\n      <td>7.370</td>\n      <td>0.451</td>\n      <td>50.80</td>\n      <td>0.718</td>\n      <td>0.168</td>\n      <td>0.882</td>\n      <td>0.518</td>\n      <td>0.258</td>\n    </tr>\n    <tr>\n      <th>1</th>\n      <td>Afghanistan</td>\n      <td>2009</td>\n      <td>4.402</td>\n      <td>7.540</td>\n      <td>0.552</td>\n      <td>51.20</td>\n      <td>0.679</td>\n      <td>0.190</td>\n      <td>0.850</td>\n      <td>0.584</td>\n      <td>0.237</td>\n    </tr>\n    <tr>\n      <th>2</th>\n      <td>Afghanistan</td>\n      <td>2010</td>\n      <td>4.758</td>\n      <td>7.647</td>\n      <td>0.539</td>\n      <td>51.60</td>\n      <td>0.600</td>\n      <td>0.121</td>\n      <td>0.707</td>\n      <td>0.618</td>\n      <td>0.275</td>\n    </tr>\n    <tr>\n      <th>3</th>\n      <td>Afghanistan</td>\n      <td>2011</td>\n      <td>3.832</td>\n      <td>7.620</td>\n      <td>0.521</td>\n      <td>51.92</td>\n      <td>0.496</td>\n      <td>0.162</td>\n      <td>0.731</td>\n      <td>0.611</td>\n      <td>0.267</td>\n    </tr>\n    <tr>\n      <th>4</th>\n      <td>Afghanistan</td>\n      <td>2012</td>\n      <td>3.783</td>\n      <td>7.705</td>\n      <td>0.521</td>\n      <td>52.24</td>\n      <td>0.531</td>\n      <td>0.236</td>\n      <td>0.776</td>\n      <td>0.710</td>\n      <td>0.268</td>\n    </tr>\n  </tbody>\n</table>\n</div>"
     },
     "metadata": {},
     "execution_count": 23
    }
   ],
   "source": [
    "data = pd.read_csv(\"world-happiness-report.csv\")\n",
    "data.head()"
   ]
  },
  {
   "cell_type": "code",
   "execution_count": 24,
   "metadata": {},
   "outputs": [
    {
     "output_type": "stream",
     "name": "stdout",
     "text": [
      "<class 'pandas.core.frame.DataFrame'>\nRangeIndex: 1949 entries, 0 to 1948\nData columns (total 11 columns):\n #   Column                            Non-Null Count  Dtype  \n---  ------                            --------------  -----  \n 0   Country name                      1949 non-null   object \n 1   year                              1949 non-null   int64  \n 2   Life Ladder                       1949 non-null   float64\n 3   Log GDP per capita                1913 non-null   float64\n 4   Social support                    1936 non-null   float64\n 5   Healthy life expectancy at birth  1894 non-null   float64\n 6   Freedom to make life choices      1917 non-null   float64\n 7   Generosity                        1860 non-null   float64\n 8   Perceptions of corruption         1839 non-null   float64\n 9   Positive affect                   1927 non-null   float64\n 10  Negative affect                   1933 non-null   float64\ndtypes: float64(9), int64(1), object(1)\nmemory usage: 167.6+ KB\n"
     ]
    }
   ],
   "source": [
    "data.info()"
   ]
  },
  {
   "cell_type": "code",
   "execution_count": 25,
   "metadata": {},
   "outputs": [],
   "source": [
    "data_2021 = pd.read_csv('world-happiness-report-2021.csv')\n"
   ]
  },
  {
   "cell_type": "code",
   "execution_count": 33,
   "metadata": {},
   "outputs": [
    {
     "output_type": "execute_result",
     "data": {
      "text/plain": [
       "    Country name  year  Social support  Freedom to make life choices\n",
       "732        India  2006           0.707                         0.774\n",
       "733        India  2007           0.569                         0.729\n",
       "734        India  2008           0.684                         0.756\n",
       "735        India  2009           0.653                         0.679\n",
       "736        India  2010           0.605                         0.783\n",
       "737        India  2011           0.553                         0.838\n",
       "738        India  2012           0.511                         0.609\n",
       "739        India  2013           0.553                         0.740\n",
       "740        India  2014           0.621                         0.809\n",
       "741        India  2015           0.610                         0.777\n",
       "742        India  2016           0.614                         0.820\n",
       "743        India  2017           0.607                         0.886\n",
       "744        India  2018           0.638                         0.890\n",
       "745        India  2019           0.561                         0.876\n",
       "746        India  2020           0.617                         0.906"
      ],
      "text/html": "<div>\n<style scoped>\n    .dataframe tbody tr th:only-of-type {\n        vertical-align: middle;\n    }\n\n    .dataframe tbody tr th {\n        vertical-align: top;\n    }\n\n    .dataframe thead th {\n        text-align: right;\n    }\n</style>\n<table border=\"1\" class=\"dataframe\">\n  <thead>\n    <tr style=\"text-align: right;\">\n      <th></th>\n      <th>Country name</th>\n      <th>year</th>\n      <th>Social support</th>\n      <th>Freedom to make life choices</th>\n    </tr>\n  </thead>\n  <tbody>\n    <tr>\n      <th>732</th>\n      <td>India</td>\n      <td>2006</td>\n      <td>0.707</td>\n      <td>0.774</td>\n    </tr>\n    <tr>\n      <th>733</th>\n      <td>India</td>\n      <td>2007</td>\n      <td>0.569</td>\n      <td>0.729</td>\n    </tr>\n    <tr>\n      <th>734</th>\n      <td>India</td>\n      <td>2008</td>\n      <td>0.684</td>\n      <td>0.756</td>\n    </tr>\n    <tr>\n      <th>735</th>\n      <td>India</td>\n      <td>2009</td>\n      <td>0.653</td>\n      <td>0.679</td>\n    </tr>\n    <tr>\n      <th>736</th>\n      <td>India</td>\n      <td>2010</td>\n      <td>0.605</td>\n      <td>0.783</td>\n    </tr>\n    <tr>\n      <th>737</th>\n      <td>India</td>\n      <td>2011</td>\n      <td>0.553</td>\n      <td>0.838</td>\n    </tr>\n    <tr>\n      <th>738</th>\n      <td>India</td>\n      <td>2012</td>\n      <td>0.511</td>\n      <td>0.609</td>\n    </tr>\n    <tr>\n      <th>739</th>\n      <td>India</td>\n      <td>2013</td>\n      <td>0.553</td>\n      <td>0.740</td>\n    </tr>\n    <tr>\n      <th>740</th>\n      <td>India</td>\n      <td>2014</td>\n      <td>0.621</td>\n      <td>0.809</td>\n    </tr>\n    <tr>\n      <th>741</th>\n      <td>India</td>\n      <td>2015</td>\n      <td>0.610</td>\n      <td>0.777</td>\n    </tr>\n    <tr>\n      <th>742</th>\n      <td>India</td>\n      <td>2016</td>\n      <td>0.614</td>\n      <td>0.820</td>\n    </tr>\n    <tr>\n      <th>743</th>\n      <td>India</td>\n      <td>2017</td>\n      <td>0.607</td>\n      <td>0.886</td>\n    </tr>\n    <tr>\n      <th>744</th>\n      <td>India</td>\n      <td>2018</td>\n      <td>0.638</td>\n      <td>0.890</td>\n    </tr>\n    <tr>\n      <th>745</th>\n      <td>India</td>\n      <td>2019</td>\n      <td>0.561</td>\n      <td>0.876</td>\n    </tr>\n    <tr>\n      <th>746</th>\n      <td>India</td>\n      <td>2020</td>\n      <td>0.617</td>\n      <td>0.906</td>\n    </tr>\n  </tbody>\n</table>\n</div>"
     },
     "metadata": {},
     "execution_count": 33
    }
   ],
   "source": [
    "India = data[data[\"Country name\"] == \"India\"]\n",
    "India[[\"Country name\",\"year\",\"Social support\",\"Freedom to make life choices\"]]"
   ]
  },
  {
   "cell_type": "code",
   "execution_count": 29,
   "metadata": {},
   "outputs": [
    {
     "output_type": "execute_result",
     "data": {
      "text/plain": [
       "    Country name  year  Life Ladder  Log GDP per capita  Social support  \\\n",
       "732        India  2006        5.348               8.145           0.707   \n",
       "733        India  2007        5.027               8.204           0.569   \n",
       "734        India  2008        5.146               8.220           0.684   \n",
       "735        India  2009        4.522               8.281           0.653   \n",
       "736        India  2010        4.989               8.349           0.605   \n",
       "737        India  2011        4.635               8.387           0.553   \n",
       "738        India  2012        4.720               8.428           0.511   \n",
       "739        India  2013        4.428               8.478           0.553   \n",
       "740        India  2014        4.424               8.538           0.621   \n",
       "741        India  2015        4.342               8.604           0.610   \n",
       "742        India  2016        4.179               8.673           0.614   \n",
       "743        India  2017        4.046               8.730           0.607   \n",
       "744        India  2018        3.818               8.779           0.638   \n",
       "745        India  2019        3.249               8.818           0.561   \n",
       "746        India  2020        4.225               8.703           0.617   \n",
       "\n",
       "     Healthy life expectancy at birth  Freedom to make life choices  \\\n",
       "732                             55.72                         0.774   \n",
       "733                             56.14                         0.729   \n",
       "734                             56.56                         0.756   \n",
       "735                             56.98                         0.679   \n",
       "736                             57.40                         0.783   \n",
       "737                             57.70                         0.838   \n",
       "738                             58.00                         0.609   \n",
       "739                             58.30                         0.740   \n",
       "740                             58.60                         0.809   \n",
       "741                             58.90                         0.777   \n",
       "742                             59.30                         0.820   \n",
       "743                             59.70                         0.886   \n",
       "744                             60.10                         0.890   \n",
       "745                             60.50                         0.876   \n",
       "746                             60.90                         0.906   \n",
       "\n",
       "     Generosity  Perceptions of corruption  Positive affect  Negative affect  \n",
       "732         NaN                      0.855            0.687            0.199  \n",
       "733      -0.051                      0.862            0.668            0.253  \n",
       "734      -0.072                      0.891            0.674            0.259  \n",
       "735      -0.026                      0.895            0.771            0.301  \n",
       "736       0.058                      0.863            0.697            0.267  \n",
       "737      -0.038                      0.908            0.648            0.232  \n",
       "738       0.067                      0.830            0.629            0.295  \n",
       "739       0.084                      0.832            0.680            0.330  \n",
       "740      -0.026                      0.832            0.711            0.285  \n",
       "741      -0.005                      0.776            0.701            0.322  \n",
       "742       0.046                      0.765            0.695            0.346  \n",
       "743      -0.042                      0.781            0.682            0.318  \n",
       "744       0.085                      0.805            0.657            0.357  \n",
       "745       0.112                      0.752            0.648            0.466  \n",
       "746       0.075                      0.780            0.752            0.383  "
      ],
      "text/html": "<div>\n<style scoped>\n    .dataframe tbody tr th:only-of-type {\n        vertical-align: middle;\n    }\n\n    .dataframe tbody tr th {\n        vertical-align: top;\n    }\n\n    .dataframe thead th {\n        text-align: right;\n    }\n</style>\n<table border=\"1\" class=\"dataframe\">\n  <thead>\n    <tr style=\"text-align: right;\">\n      <th></th>\n      <th>Country name</th>\n      <th>year</th>\n      <th>Life Ladder</th>\n      <th>Log GDP per capita</th>\n      <th>Social support</th>\n      <th>Healthy life expectancy at birth</th>\n      <th>Freedom to make life choices</th>\n      <th>Generosity</th>\n      <th>Perceptions of corruption</th>\n      <th>Positive affect</th>\n      <th>Negative affect</th>\n    </tr>\n  </thead>\n  <tbody>\n    <tr>\n      <th>732</th>\n      <td>India</td>\n      <td>2006</td>\n      <td>5.348</td>\n      <td>8.145</td>\n      <td>0.707</td>\n      <td>55.72</td>\n      <td>0.774</td>\n      <td>NaN</td>\n      <td>0.855</td>\n      <td>0.687</td>\n      <td>0.199</td>\n    </tr>\n    <tr>\n      <th>733</th>\n      <td>India</td>\n      <td>2007</td>\n      <td>5.027</td>\n      <td>8.204</td>\n      <td>0.569</td>\n      <td>56.14</td>\n      <td>0.729</td>\n      <td>-0.051</td>\n      <td>0.862</td>\n      <td>0.668</td>\n      <td>0.253</td>\n    </tr>\n    <tr>\n      <th>734</th>\n      <td>India</td>\n      <td>2008</td>\n      <td>5.146</td>\n      <td>8.220</td>\n      <td>0.684</td>\n      <td>56.56</td>\n      <td>0.756</td>\n      <td>-0.072</td>\n      <td>0.891</td>\n      <td>0.674</td>\n      <td>0.259</td>\n    </tr>\n    <tr>\n      <th>735</th>\n      <td>India</td>\n      <td>2009</td>\n      <td>4.522</td>\n      <td>8.281</td>\n      <td>0.653</td>\n      <td>56.98</td>\n      <td>0.679</td>\n      <td>-0.026</td>\n      <td>0.895</td>\n      <td>0.771</td>\n      <td>0.301</td>\n    </tr>\n    <tr>\n      <th>736</th>\n      <td>India</td>\n      <td>2010</td>\n      <td>4.989</td>\n      <td>8.349</td>\n      <td>0.605</td>\n      <td>57.40</td>\n      <td>0.783</td>\n      <td>0.058</td>\n      <td>0.863</td>\n      <td>0.697</td>\n      <td>0.267</td>\n    </tr>\n    <tr>\n      <th>737</th>\n      <td>India</td>\n      <td>2011</td>\n      <td>4.635</td>\n      <td>8.387</td>\n      <td>0.553</td>\n      <td>57.70</td>\n      <td>0.838</td>\n      <td>-0.038</td>\n      <td>0.908</td>\n      <td>0.648</td>\n      <td>0.232</td>\n    </tr>\n    <tr>\n      <th>738</th>\n      <td>India</td>\n      <td>2012</td>\n      <td>4.720</td>\n      <td>8.428</td>\n      <td>0.511</td>\n      <td>58.00</td>\n      <td>0.609</td>\n      <td>0.067</td>\n      <td>0.830</td>\n      <td>0.629</td>\n      <td>0.295</td>\n    </tr>\n    <tr>\n      <th>739</th>\n      <td>India</td>\n      <td>2013</td>\n      <td>4.428</td>\n      <td>8.478</td>\n      <td>0.553</td>\n      <td>58.30</td>\n      <td>0.740</td>\n      <td>0.084</td>\n      <td>0.832</td>\n      <td>0.680</td>\n      <td>0.330</td>\n    </tr>\n    <tr>\n      <th>740</th>\n      <td>India</td>\n      <td>2014</td>\n      <td>4.424</td>\n      <td>8.538</td>\n      <td>0.621</td>\n      <td>58.60</td>\n      <td>0.809</td>\n      <td>-0.026</td>\n      <td>0.832</td>\n      <td>0.711</td>\n      <td>0.285</td>\n    </tr>\n    <tr>\n      <th>741</th>\n      <td>India</td>\n      <td>2015</td>\n      <td>4.342</td>\n      <td>8.604</td>\n      <td>0.610</td>\n      <td>58.90</td>\n      <td>0.777</td>\n      <td>-0.005</td>\n      <td>0.776</td>\n      <td>0.701</td>\n      <td>0.322</td>\n    </tr>\n    <tr>\n      <th>742</th>\n      <td>India</td>\n      <td>2016</td>\n      <td>4.179</td>\n      <td>8.673</td>\n      <td>0.614</td>\n      <td>59.30</td>\n      <td>0.820</td>\n      <td>0.046</td>\n      <td>0.765</td>\n      <td>0.695</td>\n      <td>0.346</td>\n    </tr>\n    <tr>\n      <th>743</th>\n      <td>India</td>\n      <td>2017</td>\n      <td>4.046</td>\n      <td>8.730</td>\n      <td>0.607</td>\n      <td>59.70</td>\n      <td>0.886</td>\n      <td>-0.042</td>\n      <td>0.781</td>\n      <td>0.682</td>\n      <td>0.318</td>\n    </tr>\n    <tr>\n      <th>744</th>\n      <td>India</td>\n      <td>2018</td>\n      <td>3.818</td>\n      <td>8.779</td>\n      <td>0.638</td>\n      <td>60.10</td>\n      <td>0.890</td>\n      <td>0.085</td>\n      <td>0.805</td>\n      <td>0.657</td>\n      <td>0.357</td>\n    </tr>\n    <tr>\n      <th>745</th>\n      <td>India</td>\n      <td>2019</td>\n      <td>3.249</td>\n      <td>8.818</td>\n      <td>0.561</td>\n      <td>60.50</td>\n      <td>0.876</td>\n      <td>0.112</td>\n      <td>0.752</td>\n      <td>0.648</td>\n      <td>0.466</td>\n    </tr>\n    <tr>\n      <th>746</th>\n      <td>India</td>\n      <td>2020</td>\n      <td>4.225</td>\n      <td>8.703</td>\n      <td>0.617</td>\n      <td>60.90</td>\n      <td>0.906</td>\n      <td>0.075</td>\n      <td>0.780</td>\n      <td>0.752</td>\n      <td>0.383</td>\n    </tr>\n  </tbody>\n</table>\n</div>"
     },
     "metadata": {},
     "execution_count": 29
    }
   ],
   "source": [
    "India"
   ]
  },
  {
   "cell_type": "code",
   "execution_count": null,
   "metadata": {},
   "outputs": [],
   "source": []
  }
 ],
 "metadata": {
  "kernelspec": {
   "name": "python385jvsc74a57bd0d368af8a93f80ca1c431b543fdd07d797013f9757788ff7cb83cf2492bf20395",
   "display_name": "Python 3.8.5 64-bit ('base': conda)"
  },
  "language_info": {
   "codemirror_mode": {
    "name": "ipython",
    "version": 3
   },
   "file_extension": ".py",
   "mimetype": "text/x-python",
   "name": "python",
   "nbconvert_exporter": "python",
   "pygments_lexer": "ipython3",
   "version": "3.8.5"
  },
  "metadata": {
   "interpreter": {
    "hash": "d368af8a93f80ca1c431b543fdd07d797013f9757788ff7cb83cf2492bf20395"
   }
  }
 },
 "nbformat": 4,
 "nbformat_minor": 2
}