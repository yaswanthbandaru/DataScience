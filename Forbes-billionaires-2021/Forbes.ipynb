{
 "metadata": {
  "language_info": {
   "codemirror_mode": {
    "name": "ipython",
    "version": 3
   },
   "file_extension": ".py",
   "mimetype": "text/x-python",
   "name": "python",
   "nbconvert_exporter": "python",
   "pygments_lexer": "ipython3",
   "version": "3.8.5"
  },
  "orig_nbformat": 2,
  "kernelspec": {
   "name": "python37464bitbaseconda57aecd127f58420e856d9254771e8cd2",
   "display_name": "Python 3.8.5 64-bit ('base': conda)"
  },
  "metadata": {
   "interpreter": {
    "hash": "d368af8a93f80ca1c431b543fdd07d797013f9757788ff7cb83cf2492bf20395"
   }
  }
 },
 "nbformat": 4,
 "nbformat_minor": 2,
 "cells": [
  {
   "source": [
    "# Forbes Billionaires of 2021\n",
    "\n"
   ],
   "cell_type": "markdown",
   "metadata": {}
  },
  {
   "cell_type": "code",
   "execution_count": 4,
   "metadata": {},
   "outputs": [],
   "source": [
    "# Import libraries\n",
    "import pandas as pd \n",
    "import numpy as np \n",
    "import matplotlib.pyplot as plt \n",
    "import seaborn as sns\n",
    "\n",
    "from wordcloud import WordCloud "
   ]
  },
  {
   "cell_type": "code",
   "execution_count": 2,
   "metadata": {},
   "outputs": [
    {
     "output_type": "execute_result",
     "data": {
      "text/plain": [
       "                       Name NetWorth        Country         Source  Rank\n",
       "0                Jeff Bezos   $177 B  United States         Amazon     1\n",
       "1                 Elon Musk   $151 B  United States  Tesla, SpaceX     2\n",
       "2  Bernard Arnault & family   $150 B         France           LVMH     3\n",
       "3                Bill Gates   $124 B  United States      Microsoft     4\n",
       "4           Mark Zuckerberg    $97 B  United States       Facebook     5"
      ],
      "text/html": "<div>\n<style scoped>\n    .dataframe tbody tr th:only-of-type {\n        vertical-align: middle;\n    }\n\n    .dataframe tbody tr th {\n        vertical-align: top;\n    }\n\n    .dataframe thead th {\n        text-align: right;\n    }\n</style>\n<table border=\"1\" class=\"dataframe\">\n  <thead>\n    <tr style=\"text-align: right;\">\n      <th></th>\n      <th>Name</th>\n      <th>NetWorth</th>\n      <th>Country</th>\n      <th>Source</th>\n      <th>Rank</th>\n    </tr>\n  </thead>\n  <tbody>\n    <tr>\n      <th>0</th>\n      <td>Jeff Bezos</td>\n      <td>$177 B</td>\n      <td>United States</td>\n      <td>Amazon</td>\n      <td>1</td>\n    </tr>\n    <tr>\n      <th>1</th>\n      <td>Elon Musk</td>\n      <td>$151 B</td>\n      <td>United States</td>\n      <td>Tesla, SpaceX</td>\n      <td>2</td>\n    </tr>\n    <tr>\n      <th>2</th>\n      <td>Bernard Arnault &amp; family</td>\n      <td>$150 B</td>\n      <td>France</td>\n      <td>LVMH</td>\n      <td>3</td>\n    </tr>\n    <tr>\n      <th>3</th>\n      <td>Bill Gates</td>\n      <td>$124 B</td>\n      <td>United States</td>\n      <td>Microsoft</td>\n      <td>4</td>\n    </tr>\n    <tr>\n      <th>4</th>\n      <td>Mark Zuckerberg</td>\n      <td>$97 B</td>\n      <td>United States</td>\n      <td>Facebook</td>\n      <td>5</td>\n    </tr>\n  </tbody>\n</table>\n</div>"
     },
     "metadata": {},
     "execution_count": 2
    }
   ],
   "source": [
    "# Load Data \n",
    "data = pd.read_csv('Billionaire.csv')\n",
    "data.head()"
   ]
  },
  {
   "cell_type": "code",
   "execution_count": 3,
   "metadata": {},
   "outputs": [
    {
     "output_type": "stream",
     "name": "stdout",
     "text": [
      "<class 'pandas.core.frame.DataFrame'>\nRangeIndex: 2755 entries, 0 to 2754\nData columns (total 5 columns):\n #   Column    Non-Null Count  Dtype \n---  ------    --------------  ----- \n 0   Name      2755 non-null   object\n 1   NetWorth  2755 non-null   object\n 2   Country   2755 non-null   object\n 3   Source    2755 non-null   object\n 4   Rank      2755 non-null   int64 \ndtypes: int64(1), object(4)\nmemory usage: 107.7+ KB\n"
     ]
    }
   ],
   "source": [
    "data.info()"
   ]
  },
  {
   "cell_type": "code",
   "execution_count": 4,
   "metadata": {},
   "outputs": [],
   "source": [
    "India = data[data[\"Country\"] == 'India']\n"
   ]
  },
  {
   "cell_type": "code",
   "execution_count": 5,
   "metadata": {},
   "outputs": [
    {
     "output_type": "execute_result",
     "data": {
      "text/plain": [
       "                                     Name NetWorth\n",
       "0                              Jeff Bezos   $177 B\n",
       "1                               Elon Musk   $151 B\n",
       "2                Bernard Arnault & family   $150 B\n",
       "3                              Bill Gates   $124 B\n",
       "4                         Mark Zuckerberg    $97 B\n",
       "5                          Warren Buffett    $96 B\n",
       "6                           Larry Ellison    $93 B\n",
       "7                              Larry Page  $91.5 B\n",
       "8                             Sergey Brin    $89 B\n",
       "9                           Mukesh Ambani  $84.5 B\n",
       "10                         Amancio Ortega    $77 B\n",
       "11  Francoise Bettencourt Meyers & family  $73.6 B\n",
       "12                         Zhong Shanshan  $68.9 B\n",
       "13                          Steve Ballmer  $68.7 B\n",
       "14                             Ma Huateng  $65.8 B\n",
       "15              Carlos Slim Helu & family  $62.8 B\n",
       "16                           Alice Walton  $61.8 B\n",
       "17                             Jim Walton  $60.2 B\n",
       "18                             Rob Walton  $59.5 B\n",
       "19                      Michael Bloomberg    $59 B"
      ],
      "text/html": "<div>\n<style scoped>\n    .dataframe tbody tr th:only-of-type {\n        vertical-align: middle;\n    }\n\n    .dataframe tbody tr th {\n        vertical-align: top;\n    }\n\n    .dataframe thead th {\n        text-align: right;\n    }\n</style>\n<table border=\"1\" class=\"dataframe\">\n  <thead>\n    <tr style=\"text-align: right;\">\n      <th></th>\n      <th>Name</th>\n      <th>NetWorth</th>\n    </tr>\n  </thead>\n  <tbody>\n    <tr>\n      <th>0</th>\n      <td>Jeff Bezos</td>\n      <td>$177 B</td>\n    </tr>\n    <tr>\n      <th>1</th>\n      <td>Elon Musk</td>\n      <td>$151 B</td>\n    </tr>\n    <tr>\n      <th>2</th>\n      <td>Bernard Arnault &amp; family</td>\n      <td>$150 B</td>\n    </tr>\n    <tr>\n      <th>3</th>\n      <td>Bill Gates</td>\n      <td>$124 B</td>\n    </tr>\n    <tr>\n      <th>4</th>\n      <td>Mark Zuckerberg</td>\n      <td>$97 B</td>\n    </tr>\n    <tr>\n      <th>5</th>\n      <td>Warren Buffett</td>\n      <td>$96 B</td>\n    </tr>\n    <tr>\n      <th>6</th>\n      <td>Larry Ellison</td>\n      <td>$93 B</td>\n    </tr>\n    <tr>\n      <th>7</th>\n      <td>Larry Page</td>\n      <td>$91.5 B</td>\n    </tr>\n    <tr>\n      <th>8</th>\n      <td>Sergey Brin</td>\n      <td>$89 B</td>\n    </tr>\n    <tr>\n      <th>9</th>\n      <td>Mukesh Ambani</td>\n      <td>$84.5 B</td>\n    </tr>\n    <tr>\n      <th>10</th>\n      <td>Amancio Ortega</td>\n      <td>$77 B</td>\n    </tr>\n    <tr>\n      <th>11</th>\n      <td>Francoise Bettencourt Meyers &amp; family</td>\n      <td>$73.6 B</td>\n    </tr>\n    <tr>\n      <th>12</th>\n      <td>Zhong Shanshan</td>\n      <td>$68.9 B</td>\n    </tr>\n    <tr>\n      <th>13</th>\n      <td>Steve Ballmer</td>\n      <td>$68.7 B</td>\n    </tr>\n    <tr>\n      <th>14</th>\n      <td>Ma Huateng</td>\n      <td>$65.8 B</td>\n    </tr>\n    <tr>\n      <th>15</th>\n      <td>Carlos Slim Helu &amp; family</td>\n      <td>$62.8 B</td>\n    </tr>\n    <tr>\n      <th>16</th>\n      <td>Alice Walton</td>\n      <td>$61.8 B</td>\n    </tr>\n    <tr>\n      <th>17</th>\n      <td>Jim Walton</td>\n      <td>$60.2 B</td>\n    </tr>\n    <tr>\n      <th>18</th>\n      <td>Rob Walton</td>\n      <td>$59.5 B</td>\n    </tr>\n    <tr>\n      <th>19</th>\n      <td>Michael Bloomberg</td>\n      <td>$59 B</td>\n    </tr>\n  </tbody>\n</table>\n</div>"
     },
     "metadata": {},
     "execution_count": 5
    }
   ],
   "source": [
    "top20 = data[:20]\n",
    "data1 = pd.DataFrame(top20, columns=[\"Name\", \"NetWorth\"])\n",
    "data1"
   ]
  },
  {
   "cell_type": "code",
   "execution_count": null,
   "metadata": {},
   "outputs": [],
   "source": []
  }
 ]
}